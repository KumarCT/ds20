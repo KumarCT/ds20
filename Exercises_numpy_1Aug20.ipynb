{
 "cells": [
  {
   "cell_type": "markdown",
   "metadata": {},
   "source": [
    "## Exercise 1: Convert a list and tuple into arrays"
   ]
  },
  {
   "cell_type": "code",
   "execution_count": 11,
   "metadata": {
    "scrolled": true
   },
   "outputs": [
    {
     "name": "stdout",
     "output_type": "stream",
     "text": [
      "[1 2 3 4 5 6 7 8]\n",
      "[[8 4 6]\n",
      " [1 2 3]]\n"
     ]
    }
   ],
   "source": [
    "import numpy as np\n",
    "list_array = np.asarray([1, 2, 3 ,4 ,5, 6, 7, 8])\n",
    "print(list_array)\n",
    "tuple_array = np.asarray(([8,4,6] ,[1,2,3]))\n",
    "print(tuple_array)"
   ]
  },
  {
   "cell_type": "markdown",
   "metadata": {},
   "source": [
    "## Also try np.asarray for the problem above! "
   ]
  },
  {
   "cell_type": "markdown",
   "metadata": {},
   "source": [
    "## Exercise 2:  Convert the values of Centigrade degrees into Fahrenheit degrees"
   ]
  },
  {
   "cell_type": "code",
   "execution_count": 30,
   "metadata": {},
   "outputs": [
    {
     "name": "stdout",
     "output_type": "stream",
     "text": [
      "[-17.77777778 -11.11111111   7.33888889   1.11111111  37.72777778]\n",
      "[-17.78 -11.11   7.34   1.11  37.73]\n"
     ]
    }
   ],
   "source": [
    "import numpy as np\n",
    "values_in_fahren=[ 0,  12,   45.21, 34,   99.91]\n",
    "arr_in_fahren=np.asarray(values_in_fahreneit)\n",
    "values_in_centi=5*arr_in_fahren/9 - 5*32/9\n",
    "print(values_in_centi)\n",
    "print(np.around(values_in_centi,decimals=2))"
   ]
  },
  {
   "cell_type": "markdown",
   "metadata": {},
   "source": [
    "## Exercise 3: Write a NumPy program to find the number of elements of an array, length of one array element in bytes and total bytes consumed by the elements. "
   ]
  },
  {
   "cell_type": "code",
   "execution_count": 47,
   "metadata": {},
   "outputs": [
    {
     "name": "stdout",
     "output_type": "stream",
     "text": [
      "3\n",
      "8\n",
      "24\n"
     ]
    }
   ],
   "source": [
    "import numpy as np\n",
    "array_def=np.array([1,2,3])\n",
    "print(array_def.size)\n",
    "print(array_def.itemsize)\n",
    "print(array_def.nbytes)"
   ]
  },
  {
   "cell_type": "markdown",
   "metadata": {},
   "source": [
    "## Exercise 4: Get the unique elements of an array"
   ]
  },
  {
   "cell_type": "code",
   "execution_count": 4,
   "metadata": {},
   "outputs": [
    {
     "name": "stdout",
     "output_type": "stream",
     "text": [
      "[10 20 30]\n",
      "[1 2 3]\n"
     ]
    }
   ],
   "source": [
    "import numpy as np\n",
    "array1=np.array([10, 10, 20, 20, 30 ,30])\n",
    "print(np.unique(array1))\n",
    "array2=np.array([[1, 1], [2 ,3]])\n",
    "print(np.unique(array2))"
   ]
  },
  {
   "cell_type": "markdown",
   "metadata": {},
   "source": [
    "## Exercise 5: Change the dimension of an array\n"
   ]
  },
  {
   "cell_type": "code",
   "execution_count": 6,
   "metadata": {},
   "outputs": [
    {
     "data": {
      "text/plain": [
       "array([[1, 2, 3],\n",
       "       [4, 5, 6],\n",
       "       [7, 8, 9]])"
      ]
     },
     "execution_count": 6,
     "metadata": {},
     "output_type": "execute_result"
    }
   ],
   "source": [
    "import numpy as np\n",
    "array2=np.array([1, 2 ,3 ,4 ,5, 6 ,7 ,8, 9])\n",
    "array2.reshape(3,3)"
   ]
  },
  {
   "cell_type": "markdown",
   "metadata": {},
   "source": [
    "## Exercise 6: Create a 1-D array of 30 evenly spaced elements between 2.5. and 6.5, inclusive"
   ]
  },
  {
   "cell_type": "code",
   "execution_count": 7,
   "metadata": {},
   "outputs": [
    {
     "name": "stdout",
     "output_type": "stream",
     "text": [
      "[2.5        2.63793103 2.77586207 2.9137931  3.05172414 3.18965517\n",
      " 3.32758621 3.46551724 3.60344828 3.74137931 3.87931034 4.01724138\n",
      " 4.15517241 4.29310345 4.43103448 4.56896552 4.70689655 4.84482759\n",
      " 4.98275862 5.12068966 5.25862069 5.39655172 5.53448276 5.67241379\n",
      " 5.81034483 5.94827586 6.0862069  6.22413793 6.36206897 6.5       ]\n"
     ]
    }
   ],
   "source": [
    "import numpy as np\n",
    "array2=np.linspace(2.5,6.5,30)\n",
    "print(array2)"
   ]
  },
  {
   "cell_type": "markdown",
   "metadata": {},
   "source": [
    "## Exercise 7: Convert 1-D arrays as columns into a 2-D array"
   ]
  },
  {
   "cell_type": "code",
   "execution_count": 12,
   "metadata": {},
   "outputs": [
    {
     "name": "stdout",
     "output_type": "stream",
     "text": [
      "[[10 40]\n",
      " [20 50]\n",
      " [30 60]]\n"
     ]
    }
   ],
   "source": [
    "import numpy as np\n",
    "a1 = np.array([10, 20, 30])()\n",
    "a2 = np.array([40, 50, 60])\n",
    "a3 = np.column_stack((a1,a2))\n",
    "print(a3)"
   ]
  },
  {
   "cell_type": "markdown",
   "metadata": {},
   "source": [
    "## Exercise 8: Create a 5x5 matrix with row values ranging from 0 to 4"
   ]
  },
  {
   "cell_type": "code",
   "execution_count": 23,
   "metadata": {},
   "outputs": [
    {
     "name": "stdout",
     "output_type": "stream",
     "text": [
      "[0 1 2 3 4]\n",
      "[[0. 1. 2. 3. 4.]\n",
      " [0. 1. 2. 3. 4.]\n",
      " [0. 1. 2. 3. 4.]\n",
      " [0. 1. 2. 3. 4.]\n",
      " [0. 1. 2. 3. 4.]]\n"
     ]
    }
   ],
   "source": [
    "import numpy as np\n",
    "a1 = np.zeros((5,5))\n",
    "print(np.arange(5))\n",
    "a1 += np.arange(5)\n",
    "print(a1)"
   ]
  },
  {
   "cell_type": "markdown",
   "metadata": {},
   "source": [
    "## Exercise 9: Sum of all the multiples of 3 or 5 below 100"
   ]
  },
  {
   "cell_type": "code",
   "execution_count": 2,
   "metadata": {},
   "outputs": [
    {
     "name": "stdout",
     "output_type": "stream",
     "text": [
      "number of multiples 3 or 5 : 52\n",
      "unique multiples 3 or 5 : 46\n",
      "sum 2318\n",
      "2318\n"
     ]
    }
   ],
   "source": [
    "import numpy as np\n",
    "a3=np.arange(3,100,3)\n",
    "a5=np.arange(5,100,5)\n",
    "ac1=np.concatenate((a3, a5))\n",
    "print('number of multiples 3 or 5 :',ac1.size)\n",
    "au1_ele=np.unique(ac1)\n",
    "print('unique multiples 3 or 5 :',au1_ele.size)\n",
    "au1=np.unique(ac1).sum()\n",
    "print('sum',au1)\n",
    "\n"
   ]
  },
  {
   "cell_type": "markdown",
   "metadata": {},
   "source": [
    "## Exercise 10: Combine a one and a two dimensional array together and display their elements\n",
    "##### Hint : np.nditer()"
   ]
  },
  {
   "cell_type": "code",
   "execution_count": 28,
   "metadata": {},
   "outputs": [
    {
     "name": "stdout",
     "output_type": "stream",
     "text": [
      "0\n",
      "0\n",
      "1\n",
      "1\n",
      "2\n",
      "2\n",
      "3\n",
      "3\n"
     ]
    }
   ],
   "source": [
    "x = np.arange(4)\n",
    "y = np.arange(4)\n",
    "for a, b in np.nditer([x,y]):\n",
    "    print(a)\n",
    "    print(b)"
   ]
  },
  {
   "cell_type": "code",
   "execution_count": 50,
   "metadata": {},
   "outputs": [
    {
     "name": "stdout",
     "output_type": "stream",
     "text": [
      "One dimensional array:\n",
      "[0 1 2 3]\n",
      "Two dimensional array:\n",
      "[[0 1 2 3]\n",
      " [4 5 6 7]]\n",
      "0:0\n",
      "1:1\n",
      "2:2\n",
      "3:3\n",
      "0:4\n",
      "1:5\n",
      "2:6\n",
      "3:7\n"
     ]
    }
   ],
   "source": [
    "import numpy as np\n",
    "x=np.arange(4)\n",
    "y=np.arange(8)\n",
    "z=y.reshape(2,4)\n",
    "print('One dimensional array:')\n",
    "print(x)\n",
    "print('Two dimensional array:')\n",
    "print(z)\n",
    "for a, b in np.nditer([x,z]):\n",
    "    print(\"{}:{}\".format(a,b))"
   ]
  },
  {
   "cell_type": "markdown",
   "metadata": {},
   "source": [
    "## Exercise 11: Write a NumPy program to replace all elements of NumPy array that are greater than specified array."
   ]
  },
  {
   "cell_type": "code",
   "execution_count": 54,
   "metadata": {},
   "outputs": [
    {
     "name": "stdout",
     "output_type": "stream",
     "text": [
      "[[0.42436315 0.48558583 0.32924763]\n",
      " [0.5        0.5        0.38213418]\n",
      " [0.5        0.34528799 0.1563123 ]]\n"
     ]
    }
   ],
   "source": [
    "import numpy as np\n",
    "oarr=np.array([[0.42436315,0.48558583, 0.32924763],\n",
    " [0.7439979,  0.58220701, 0.38213418],\n",
    " [0.5097581,  0.34528799, 0.1563123 ]])\n",
    "oarr=np.where(oarr > .5, .5, oarr)\n",
    "print(oarr)"
   ]
  },
  {
   "cell_type": "markdown",
   "metadata": {},
   "source": [
    "## Exercise 12: Add a new row to an empty numpy array"
   ]
  },
  {
   "cell_type": "code",
   "execution_count": 26,
   "metadata": {},
   "outputs": [
    {
     "name": "stdout",
     "output_type": "stream",
     "text": [
      "[]\n",
      "[[10 20 30]\n",
      " [40 50 60]]\n"
     ]
    }
   ],
   "source": [
    "import numpy as np\n",
    "earr=np.empty([0,0])\n",
    "print(earr)\n",
    "arr1=np.array([10,20,30])\n",
    "arr2=np.array([40,50,60])\n",
    "earr=np.stack((arr1,arr2))\n",
    "print(earr)\n"
   ]
  },
  {
   "cell_type": "markdown",
   "metadata": {},
   "source": [
    "## Exercise 13: Write a NumPy program to join a sequence of arrays along a new axis. "
   ]
  },
  {
   "cell_type": "code",
   "execution_count": 44,
   "metadata": {},
   "outputs": [
    {
     "name": "stdout",
     "output_type": "stream",
     "text": [
      "orginal arrays [1 2 3] [2 3 4]\n",
      "Sequence of arrays along a new axis: [[1 2 3]\n",
      " [2 3 4]]\n",
      "Sequence of arrays along a new axis: [[1]\n",
      " [2]\n",
      " [3]\n",
      " [2]\n",
      " [3]\n",
      " [4]]\n"
     ]
    }
   ],
   "source": [
    "import numpy as np\n",
    "arr1=np.array([1,2 ,3])\n",
    "arr2=np.array([2,3 ,4])\n",
    "print('orginal arrays',arr1,arr2)\n",
    "print('Sequence of arrays along a new axis:',np.stack((arr1,arr2)))\n",
    "arr3=[[1], [2], [3]]\n",
    "arr4=[[2], [3], [4]]\n",
    "print('Sequence of arrays along a new axis:',np.vstack((arr3,arr4)))"
   ]
  },
  {
   "cell_type": "code",
   "execution_count": 35,
   "metadata": {
    "scrolled": true
   },
   "outputs": [
    {
     "name": "stdout",
     "output_type": "stream",
     "text": [
      "Original arrays:\n",
      "[1 2 3]\n",
      "[2 3 4]\n",
      "Sequence of arrays along a new axis:\n",
      "[[1 2 3]\n",
      " [2 3 4]]\n",
      "\n",
      "Original arrays:\n",
      "[[1]\n",
      " [2]\n",
      " [3]]\n",
      "\n",
      "[[2]\n",
      " [3]\n",
      " [4]]\n",
      "Sequence of arrays along a new axis:\n",
      "[[1]\n",
      " [2]\n",
      " [3]\n",
      " [2]\n",
      " [3]\n",
      " [4]]\n"
     ]
    }
   ],
   "source": []
  },
  {
   "cell_type": "code",
   "execution_count": null,
   "metadata": {},
   "outputs": [],
   "source": []
  }
 ],
 "metadata": {
  "kernelspec": {
   "display_name": "Python 3",
   "language": "python",
   "name": "python3"
  },
  "language_info": {
   "codemirror_mode": {
    "name": "ipython",
    "version": 3
   },
   "file_extension": ".py",
   "mimetype": "text/x-python",
   "name": "python",
   "nbconvert_exporter": "python",
   "pygments_lexer": "ipython3",
   "version": "3.7.6"
  }
 },
 "nbformat": 4,
 "nbformat_minor": 4
}
