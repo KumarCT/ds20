{
 "cells": [
  {
   "cell_type": "markdown",
   "metadata": {},
   "source": [
    "### The questions for the exercises are given above the cells and the expected output is given below the cell. Please type the code inserting a new cell below the question because if you run the expected output cell the output would vanish! Happy learning! "
   ]
  },
  {
   "cell_type": "markdown",
   "metadata": {},
   "source": [
    "## 1. Write a Python program to find those numbers which are divisible by 7 and multiple of 5, between 1500 and 2700 (both included). "
   ]
  },
  {
   "cell_type": "code",
   "execution_count": 36,
   "metadata": {},
   "outputs": [
    {
     "name": "stdout",
     "output_type": "stream",
     "text": [
      "1505,1540,1575,1610,1645,1680,1715,1750,1785,1820,1855,1890,1925,1960,1995,2030,2065,2100,2135,2170,2205,2240,2275,2310,2345,2380,2415,2450,2485,2520,2555,2590,2625,2660,2695\n"
     ]
    }
   ],
   "source": [
    "list1 =[]\n",
    "for i in range(1500, 2701):\n",
    "    if(i%7 == 0 and i%5==0):\n",
    "        list1.append(i)\n",
    "#print (list1)\n",
    "print (*list1,sep=\",\")"
   ]
  },
  {
   "cell_type": "markdown",
   "metadata": {},
   "source": [
    "## 2. Write a Python program to construct the following pattern, using a nested for loop.\n"
   ]
  },
  {
   "cell_type": "code",
   "execution_count": 82,
   "metadata": {},
   "outputs": [
    {
     "name": "stdout",
     "output_type": "stream",
     "text": [
      "*\n",
      "**\n",
      "***\n",
      "****\n",
      "*****\n",
      "****\n",
      "***\n",
      "**\n"
     ]
    }
   ],
   "source": [
    "for j in range(1,6):\n",
    "    print(j*\"*\")\n",
    "for i in range(4,1,-1):\n",
    "    print(i*\"*\")\n",
    "\n",
    "\n",
    "    "
   ]
  },
  {
   "cell_type": "markdown",
   "metadata": {},
   "source": [
    "## 3. Write a Python program to count the number of even and odd numbers from a series of numbers."
   ]
  },
  {
   "cell_type": "code",
   "execution_count": 9,
   "metadata": {},
   "outputs": [
    {
     "name": "stdout",
     "output_type": "stream",
     "text": [
      "Number of even numbers : 3\n",
      "Number of odd numbers : 5\n"
     ]
    }
   ],
   "source": [
    "lst = [33,27,44,55,66,77,88,99]\n",
    "even=0\n",
    "odd=0\n",
    "for i in lst:\n",
    "    if (i%2 == 0) : even+=1\n",
    "    else: odd+=1\n",
    "print('Number of even numbers :',even)\n",
    "print('Number of odd numbers :',odd)"
   ]
  },
  {
   "cell_type": "markdown",
   "metadata": {},
   "source": [
    "## 4. Write a Python program to find numbers between 100 and 400 (both included) where each digit of a number is an even number. The numbers obtained should be printed in a comma-separated sequence."
   ]
  },
  {
   "cell_type": "code",
   "execution_count": 1,
   "metadata": {},
   "outputs": [
    {
     "name": "stdout",
     "output_type": "stream",
     "text": [
      "200,202,204,206,208,220,222,224,226,228,240,242,244,246,248,260,262,264,266,268,280,282,284,286,288,400,"
     ]
    }
   ],
   "source": [
    "for num in range(100,401):\n",
    "    digieven=0\n",
    "    string_list=str(num)\n",
    "    for digin in string_list[:]:\n",
    "        if int(digin)%2 == 0 :\n",
    "            digieven+=1\n",
    "        else: \n",
    "            break\n",
    "    if (digieven == len(string_list)):\n",
    "        print(num,end=\",\")\n",
    "        "
   ]
  },
  {
   "cell_type": "markdown",
   "metadata": {},
   "source": [
    "## 5. Write a Python program to calculate a dog's age in dog's years. Go to the editor\n",
    "Note: For the first two years, a dog year is equal to 10.5 human years. After that, each dog year equals 4 human years."
   ]
  },
  {
   "cell_type": "code",
   "execution_count": 30,
   "metadata": {},
   "outputs": [
    {
     "name": "stdout",
     "output_type": "stream",
     "text": [
      "Input a dog's age in human years:2\n",
      "The dog's age in dog's years is 21.0\n"
     ]
    }
   ],
   "source": [
    "input_year = int(input(\"Input a dog's age in human years:\"))\n",
    "if (input_year) < 3 :\n",
    "    dog_yr = input_year*10.5\n",
    "else : \n",
    "    dog_yr=2*10.5+(input_year-2)*4\n",
    "print(\"The dog's age in dog's years is\",dog_yr)"
   ]
  },
  {
   "cell_type": "markdown",
   "metadata": {},
   "source": [
    "## 6. Write a Python function to find the Max of three numbers."
   ]
  },
  {
   "cell_type": "code",
   "execution_count": 60,
   "metadata": {},
   "outputs": [
    {
     "name": "stdout",
     "output_type": "stream",
     "text": [
      "input 3 numbers\n",
      "101010\n",
      "2\n",
      "20202020\n",
      "max of 3 numbers 20202020\n"
     ]
    }
   ],
   "source": [
    "def find_max(x,y,z):\n",
    "    return(max(x,y,z))\n",
    "        \n",
    "print (\"input 3 numbers\")\n",
    "a,b,c=input(),input(),input()\n",
    "print(\"max of 3 numbers\", find_max(a,b,c))    "
   ]
  },
  {
   "cell_type": "markdown",
   "metadata": {},
   "source": [
    "## 7. Write a Python function that takes a number as a parameter and check the number is prime or not."
   ]
  },
  {
   "cell_type": "code",
   "execution_count": 31,
   "metadata": {},
   "outputs": [
    {
     "name": "stdout",
     "output_type": "stream",
     "text": [
      "enter number :35\n",
      "number 35 is NOT a prime number\n"
     ]
    }
   ],
   "source": [
    "def check_prime(n):\n",
    "    count=0\n",
    "    if (n <= 3):\n",
    "        return(True)\n",
    "    else:\n",
    "        for i in range(2,n):\n",
    "            if (n%i==0):\n",
    "                count += 1 \n",
    "        if (count == 0):\n",
    "            return(True)\n",
    "        else:\n",
    "            return(False)\n",
    "    \n",
    "a=int(input(\"enter number :\"))\n",
    "#print(check_prime(a))\n",
    "if (check_prime(a)):\n",
    "    print(\"number {} is prime number\".format(a))\n",
    "else:\n",
    "    print(\"number {} is NOT a prime number\".format(a)) "
   ]
  },
  {
   "cell_type": "markdown",
   "metadata": {},
   "source": [
    "## 8. Write a Python function that accepts a string and calculate the number of upper case letters and lower case letters. Go to the editor\n"
   ]
  },
  {
   "cell_type": "code",
   "execution_count": 47,
   "metadata": {},
   "outputs": [
    {
     "name": "stdout",
     "output_type": "stream",
     "text": [
      "No. of Upper case characters :  13\n",
      "No. of Upper case characters :  32\n"
     ]
    }
   ],
   "source": [
    "def str_upper_lower_count(str_in):\n",
    "    ret_upper=0\n",
    "    ret_lower=0\n",
    "    for s in str_in:\n",
    "        if s.isupper():\n",
    "            ret_upper+=1\n",
    "        else:\n",
    "            ret_lower+=1\n",
    "    return(ret_upper,ret_lower)\n",
    "        \n",
    "str1 = 'Inceptz is One of The BeSt Places TO LEarn DataSciEnce'\n",
    "out_upper,out_lower=str_upper_lower_count(str1.replace(\" \",\"\"))\n",
    "print(\"No. of Upper case characters : \",out_upper)\n",
    "print(\"No. of Upper case characters : \",out_lower)\n",
    "\n"
   ]
  },
  {
   "cell_type": "markdown",
   "metadata": {},
   "source": [
    "## 9. Write a Python program to reverse a string. "
   ]
  },
  {
   "cell_type": "code",
   "execution_count": 84,
   "metadata": {},
   "outputs": [
    {
     "name": "stdout",
     "output_type": "stream",
     "text": [
      "The original string:  234abcd\n",
      "The reversed string:  dcba432\n"
     ]
    }
   ],
   "source": [
    "def reverse_str(str_in):\n",
    "    rev_str=\"\"\n",
    "    for i in range(len(str)-1,-1,-1):\n",
    "          rev_str=rev_str+str[i]\n",
    "    return(rev_str)\n",
    "        \n",
    "\n",
    "str1 = '234abcd'\n",
    "print('The original string: ',str1)\n",
    "print('The reversed string: ',reverse_str(str))"
   ]
  },
  {
   "cell_type": "markdown",
   "metadata": {},
   "source": [
    "## 10. Write a Python program to find  the greatest common divisor (gcd) of two integers."
   ]
  },
  {
   "cell_type": "code",
   "execution_count": 67,
   "metadata": {},
   "outputs": [
    {
     "name": "stdout",
     "output_type": "stream",
     "text": [
      "enter first number :100\n",
      "enter second number :75\n",
      "The two numbers are: 100,75\n",
      "The GCD of the numbers are: 25\n"
     ]
    }
   ],
   "source": [
    "def greatest_common_div(n1,n2):\n",
    "    for i in range(1,max(n1,n2)):\n",
    "        if n1%i==0 and n2%i==0:\n",
    "            gcd=i\n",
    "    return(gcd)\n",
    "\n",
    "num1=int(input(\"enter 1st number :\"))\n",
    "num2=int(input(\"enter 2nd number :\"))\n",
    "print('The two numbers are: {},{}'.format(num1,num2) )\n",
    "print('The GCD of the numbers are:',greatest_common_div(num1,num2) )"
   ]
  },
  {
   "cell_type": "code",
   "execution_count": null,
   "metadata": {},
   "outputs": [],
   "source": []
  }
 ],
 "metadata": {
  "kernelspec": {
   "display_name": "Python 3",
   "language": "python",
   "name": "python3"
  },
  "language_info": {
   "codemirror_mode": {
    "name": "ipython",
    "version": 3
   },
   "file_extension": ".py",
   "mimetype": "text/x-python",
   "name": "python",
   "nbconvert_exporter": "python",
   "pygments_lexer": "ipython3",
   "version": "3.7.6"
  }
 },
 "nbformat": 4,
 "nbformat_minor": 4
}
